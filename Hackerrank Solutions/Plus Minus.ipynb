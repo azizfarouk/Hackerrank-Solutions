{
 "cells": [
  {
   "cell_type": "code",
   "execution_count": null,
   "metadata": {},
   "outputs": [],
   "source": [
    "#!/bin/python3\n",
    "\n",
    "import math\n",
    "import os\n",
    "import random\n",
    "import re\n",
    "import sys\n",
    "\n",
    "# Complete the plusMinus function below.\n",
    "def plusMinus(arr):\n",
    "    pos_num = []\n",
    "    neg_num = []\n",
    "    zeros = []\n",
    "    n = len(arr)\n",
    "\n",
    "    for i in arr:\n",
    "        if i > 0:\n",
    "            pos_num.append(i)\n",
    "        elif i < 0:\n",
    "            neg_num.append(i)\n",
    "        else:\n",
    "            zeros.append(i)\n",
    "    print(len(pos_num)/n)\n",
    "    print(len(neg_num)/n)\n",
    "    print(len(zeros)/n)\n",
    "    "
   ]
  }
 ],
 "metadata": {
  "kernelspec": {
   "display_name": "Python 3",
   "language": "python",
   "name": "python3"
  },
  "language_info": {
   "codemirror_mode": {
    "name": "ipython",
    "version": 3
   },
   "file_extension": ".py",
   "mimetype": "text/x-python",
   "name": "python",
   "nbconvert_exporter": "python",
   "pygments_lexer": "ipython3",
   "version": "3.7.3"
  }
 },
 "nbformat": 4,
 "nbformat_minor": 2
}
